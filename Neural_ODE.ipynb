{
  "cells": [
    {
      "cell_type": "markdown",
      "metadata": {},
      "source": [
        "## Neural ODE"
      ]
    },
    {
      "cell_type": "markdown",
      "metadata": {},
      "source": [
        "### Imports"
      ]
    },
    {
      "cell_type": "code",
      "execution_count": 1,
      "metadata": {
        "id": "1mRK6nlmeHz2"
      },
      "outputs": [],
      "source": [
        "from torchdiffeq import odeint_adjoint as odeint\n",
        "import torch\n",
        "import torch.nn as nn\n",
        "import torch.nn.functional as F\n",
        "import torch.optim as optim\n",
        "import matplotlib.pyplot as plt\n",
        "import numpy as np\n",
        "import pandas as pd\n",
        "import os\n",
        "\n",
        "# device = torch.device(\"cuda\")\n",
        "device = torch.device(\"cpu\")"
      ]
    },
    {
      "cell_type": "markdown",
      "metadata": {},
      "source": [
        "### Data"
      ]
    },
    {
      "cell_type": "code",
      "execution_count": null,
      "metadata": {},
      "outputs": [],
      "source": [
        "data = pd.read_csv(\"datas/data_3.csv\")\n",
        "\n",
        "t = torch.tensor(data['t'])\n",
        "angular_velocity_data = data['angular_velocity']\n",
        "angular_displacement_data = data['angular_displacement']\n",
        "\n",
        "true_dxdt = torch.tensor(list([[x, y]] for x, y in zip(angular_displacement_data, angular_velocity_data)))\n",
        "\n",
        "starting_point = true_dxdt[0]\n",
        "\n",
        "print(\"> Starting point = {}\".format(starting_point.squeeze()))\n",
        "print(\"> t.shape = {}\".format(t.shape))\n",
        "print(\"> true_dxdt.shape = {}\".format(true_dxdt.shape))"
      ]
    },
    {
      "cell_type": "markdown",
      "metadata": {},
      "source": [
        "### Simulation Data"
      ]
    },
    {
      "cell_type": "code",
      "execution_count": 2,
      "metadata": {},
      "outputs": [
        {
          "name": "stdout",
          "output_type": "stream",
          "text": [
            "tensor([[[ 3.0000, -2.2500]],\n",
            "\n",
            "        [[ 2.9869, -2.9796]],\n",
            "\n",
            "        [[ 2.9702, -3.6999]],\n",
            "\n",
            "        ...,\n",
            "\n",
            "        [[-0.0614,  0.2979]],\n",
            "\n",
            "        [[-0.0599,  0.3108]],\n",
            "\n",
            "        [[-0.0583,  0.3232]]])\n",
            "1000\n",
            "torch.Size([1000, 1, 2])\n"
          ]
        }
      ],
      "source": [
        "# Parameters\n",
        "x_m = 3.0  # Example amplitude\n",
        "b = 15.0    # Damping coefficient\n",
        "m = 10.0    # Mass\n",
        "k = 500.0    # Spring constant\n",
        "\n",
        "# Define the function x(t)\n",
        "def x_t(t, x_m, b, m, k):\n",
        "    exp_term = torch.exp(-b / (2 * m) * t)\n",
        "    sqrt_term = torch.sqrt(torch.tensor(k / m) - torch.tensor(b**2) / (4 * torch.tensor(m**2)))\n",
        "    cos_term = torch.cos(sqrt_term * t)\n",
        "    return x_m * exp_term * cos_term\n",
        "\n",
        "# Define the function v(t)\n",
        "def v_t(t, x_m, b, m, k):\n",
        "    exp_term = torch.exp(-b / (2 * m) * t)\n",
        "    sqrt_term = torch.sqrt(torch.tensor(k / m) - torch.tensor(b**2) / (4 * torch.tensor(m**2)))\n",
        "    cos_term = torch.cos(sqrt_term * t)\n",
        "    sin_term = torch.sin(sqrt_term * t)\n",
        "    \n",
        "    # Velocity function derived analytically\n",
        "    v = -x_m * exp_term * ((b / (2 * m)) * cos_term + sqrt_term * sin_term)\n",
        "    return v\n",
        "\n",
        "# Create time values t\n",
        "t_values = torch.linspace(0, 5, 1000)  # Adjust time range and step as needed\n",
        "\n",
        "# Calculate x(t) and v(t) for each t\n",
        "x_values = x_t(t_values, x_m, b, m, k)\n",
        "v_values = v_t(t_values, x_m, b, m, k)\n",
        "\n",
        "# Stack t, x(t), and v(t) into a single tensor\n",
        "simulation_data = torch.tensor(list([[x, y]] for x, y in zip(x_values, v_values)))\n",
        "\n",
        "# Print the resulting tensor\n",
        "print(simulation_data)\n",
        "print(len(simulation_data))\n",
        "print(simulation_data.shape)\n",
        "true_dxdt = simulation_data\n",
        "t = t_values\n",
        "starting_point = true_dxdt[0]"
      ]
    },
    {
      "cell_type": "code",
      "execution_count": null,
      "metadata": {},
      "outputs": [],
      "source": [
        "w = 50 ** 0.5\n",
        "\n",
        "# Define the function x(t)\n",
        "def x_t(t, x_m, w):\n",
        "    return x_m * torch.cos(w * t)\n",
        "\n",
        "# Define the function v(t)\n",
        "def v_t(t, x_m, w):\n",
        "    return -1 * x_m * w * torch.sin(w * t)\n",
        "\n",
        "x_values = x_t(t_values, x_m, w)\n",
        "v_values = v_t(t_values, x_m, w)\n",
        "\n",
        "perfect_data = torch.tensor(list([[x, y]] for x, y in zip(x_values, v_values)))\n",
        "\n",
        "print(perfect_data[:10])\n",
        "print(len(perfect_data))\n",
        "print(perfect_data.shape)"
      ]
    },
    {
      "cell_type": "markdown",
      "metadata": {},
      "source": [
        "### Batch Function"
      ]
    },
    {
      "cell_type": "code",
      "execution_count": 3,
      "metadata": {
        "id": "gP88LQRLlFY8"
      },
      "outputs": [],
      "source": [
        "batch_size = 100\n",
        "time_interval = 10\n",
        "\n",
        "def get_batch():\n",
        "    random_points = np.random.choice(np.arange(len(true_dxdt) - time_interval, dtype=np.int64), batch_size, replace=False)\n",
        "    batch_starting_point = true_dxdt[random_points]\n",
        "    batch_t = t[:time_interval]\n",
        "    batch_dxdt = torch.stack([true_dxdt[random_points + i] for i in range(time_interval)], dim=0)\n",
        "\n",
        "    return batch_starting_point, batch_t, batch_dxdt"
      ]
    },
    {
      "cell_type": "markdown",
      "metadata": {
        "id": "-YpdMmXX0Q09"
      },
      "source": [
        "### Neural Network"
      ]
    },
    {
      "cell_type": "code",
      "execution_count": 4,
      "metadata": {
        "id": "i8eSU_94izdL"
      },
      "outputs": [],
      "source": [
        "class PredictFunction(nn.Module):\n",
        "    def __init__(self):\n",
        "        super().__init__()\n",
        "\n",
        "        self.net = nn.Sequential(\n",
        "            nn.Linear(2, 16),\n",
        "            nn.ReLU(),\n",
        "            nn.Linear(16, 50),\n",
        "            nn.ReLU(),\n",
        "            nn.Linear(50, 50),\n",
        "            nn.ReLU(),\n",
        "            nn.Linear(50, 16),\n",
        "            nn.ReLU(),\n",
        "            nn.Linear(16, 2)\n",
        "        )\n",
        "\n",
        "    def forward(self, t, x):\n",
        "        return self.net(x)"
      ]
    },
    {
      "cell_type": "markdown",
      "metadata": {},
      "source": [
        "### Visualization\n",
        "Visualizes the trajectory of angular displacement and velocity over time, Phase Space, and learned Vector Field"
      ]
    },
    {
      "cell_type": "code",
      "execution_count": 5,
      "metadata": {
        "id": "e3-lMYe5uP5F"
      },
      "outputs": [],
      "source": [
        "max_angular_displacement = 5\n",
        "max_angular_velocity = 30\n",
        "vector_points = 20\n",
        "\n",
        "def visualize(true_y, pred_y, odefunc, itr):\n",
        "    fig = plt.figure(figsize=(8, 8), facecolor='white')\n",
        "\n",
        "    angular_displacement = fig.add_subplot(221, frameon=False)\n",
        "    angular_velocity = fig.add_subplot(222, frameon=False)\n",
        "    phase_space = fig.add_subplot(223, frameon=False)\n",
        "    vector_field = fig.add_subplot(224, frameon=False)\n",
        "\n",
        "    angular_displacement.cla()\n",
        "    angular_displacement.set_title('Angular Displacement')\n",
        "    angular_displacement.set_xlabel('t')\n",
        "    angular_displacement.set_ylabel('angular displacement(rad)')\n",
        "    angular_displacement.plot(t.cpu().numpy(), true_y.cpu().numpy()[:, 0, 0], color='green', linestyle='-', label='actual value')\n",
        "    angular_displacement.plot(t.cpu().numpy(), pred_y.cpu().numpy()[:, 0, 0], color='blue', linestyle='--', label='predicted value')\n",
        "    angular_displacement.set_xlim(t.cpu().min(), t.cpu().max())\n",
        "    angular_displacement.set_ylim(-max_angular_displacement, max_angular_displacement)\n",
        "    angular_displacement.legend(loc=\"best\")\n",
        "\n",
        "    angular_velocity.cla()\n",
        "    angular_velocity.set_title('Angular Velocity')\n",
        "    angular_velocity.set_xlabel('t')\n",
        "    angular_velocity.set_ylabel('angular velocity(rad/s)')\n",
        "    angular_velocity.plot(t.cpu().numpy(), true_y.cpu().numpy()[:, 0, 1], color='red', linestyle='-', label='actual value')\n",
        "    angular_velocity.plot(t.cpu().numpy(), pred_y.cpu().numpy()[:, 0, 1], color='orange', linestyle='--', label='predicted value')\n",
        "    angular_velocity.set_xlim(t.cpu().min(), t.cpu().max())\n",
        "    angular_velocity.set_ylim(-max_angular_velocity, max_angular_velocity)\n",
        "    angular_velocity.legend(loc=\"best\")\n",
        "\n",
        "    phase_space.cla()\n",
        "    phase_space.set_title('Phase Space')\n",
        "    phase_space.set_xlabel('angular displacement(rad)')\n",
        "    phase_space.set_ylabel('angular velocity(rad/s)')\n",
        "    phase_space.plot(true_y.cpu().numpy()[:, 0, 0], true_y.cpu().numpy()[:, 0, 1], color='purple', linestyle='-', label='actual path')\n",
        "    phase_space.plot(pred_y.cpu().numpy()[:, 0, 0], pred_y.cpu().numpy()[:, 0, 1], color='skyblue', linestyle='--', label='predicted path')\n",
        "    phase_space.set_xlim(-max_angular_displacement, max_angular_displacement)\n",
        "    phase_space.set_ylim(-max_angular_velocity, max_angular_velocity)\n",
        "    phase_space.legend(loc=\"best\")\n",
        "\n",
        "    vector_field.cla()\n",
        "    vector_field.set_title('Learned Vector Field')\n",
        "    vector_field.set_xlabel('angular displacement(rad)')\n",
        "    vector_field.set_ylabel('angular velocity(rad/s)')\n",
        "\n",
        "    y, x = np.mgrid[-max_angular_velocity:max_angular_velocity:complex(vector_points), \n",
        "                    -max_angular_displacement:max_angular_displacement:complex(vector_points)]\n",
        "    velocity = odefunc(0, torch.Tensor(np.stack([x, y], -1).reshape(vector_points * vector_points, 2)).to(device)).cpu().detach().numpy()\n",
        "    mag = np.sqrt(velocity[:, 0]**2 + velocity[:, 1]**2).reshape(-1, 1)\n",
        "    velocity = (velocity / mag)\n",
        "    velocity = velocity.reshape(vector_points, vector_points, 2)\n",
        "\n",
        "    vector_field.streamplot(x, y, velocity[:, :, 0], velocity[:, :, 1], color=\"black\")\n",
        "    vector_field.set_xlim(-max_angular_displacement, max_angular_displacement)\n",
        "    vector_field.set_ylim(-max_angular_velocity, max_angular_velocity)\n",
        "\n",
        "    fig.tight_layout()\n",
        "    plt.savefig('png/{:03d}.png'.format(itr))\n",
        "    # plt.draw()\n",
        "    # plt.pause(0.001)\n",
        "    \n",
        "# class TargetFunction(nn.Module):\n",
        "#     def __init__(self, omega_x, omega_y):\n",
        "#         super().__init__()\n",
        "#         # Define the matrix that represents elliptic motion in the x, y plane\n",
        "#         self.elliptic_matrix = torch.tensor([[0, -omega_y], [omega_x, 0]]).to(device)\n",
        "\n",
        "#     def forward(self, t, x):\n",
        "#         # Elliptical motion in the x, y plane\n",
        "#         return torch.mm(x, self.elliptic_matrix)\n",
        "\n",
        "# # Example angular velocities for x and y axes\n",
        "# omega_x = 0.2  # Angular velocity in the x-direction\n",
        "# omega_y = 10  # Angular velocity in the y-direction (different to create ellipse)\n",
        "\n",
        "# # Create the TargetFunction instance for elliptic motion\n",
        "# elliptic_function = TargetFunction(omega_x, omega_y).to(device)\n",
        "\n",
        "# visualize(perfect_data, simulation_data, elliptic_function, 1)"
      ]
    },
    {
      "cell_type": "markdown",
      "metadata": {},
      "source": [
        "### Learn"
      ]
    },
    {
      "cell_type": "code",
      "execution_count": null,
      "metadata": {
        "colab": {
          "base_uri": "https://localhost:8080/"
        },
        "id": "CiA9tmiHpkx6",
        "outputId": "9dcc072c-117c-463f-9882-586f7832c099"
      },
      "outputs": [],
      "source": [
        "os.makedirs(\"png\", exist_ok=True)\n",
        "\n",
        "history = []\n",
        "epochs = 3000\n",
        "\n",
        "net = PredictFunction().to(device)\n",
        "opt = optim.Adam(net.parameters(), lr=3e-4)\n",
        "\n",
        "for i in range(epochs+1):\n",
        "    opt.zero_grad()\n",
        "    batch_starting, batch_t, batch_dxdt = get_batch()\n",
        "    pred_dxdt = odeint(net, batch_starting, batch_t).to(device)\n",
        "    loss = F.l1_loss(pred_dxdt, batch_dxdt)\n",
        "    loss.backward()\n",
        "    opt.step()\n",
        "    print(f\"\\r> [{i}/{epochs}] loss = {round(loss.item(), 3)}\", end='')\n",
        "    history.append(loss.item())\n",
        "\n",
        "    if i % 300 == 0:\n",
        "        with torch.no_grad():\n",
        "            pred_dxdt = odeint(net, starting_point, t)\n",
        "            visualize(true_dxdt, pred_dxdt, net, i)\n",
        "        print(\"\")"
      ]
    },
    {
      "cell_type": "markdown",
      "metadata": {},
      "source": [
        "### Learning Curve"
      ]
    },
    {
      "cell_type": "code",
      "execution_count": null,
      "metadata": {},
      "outputs": [],
      "source": [
        "# history = np.random.random(100)\n",
        "\n",
        "plt.figure(figsize=(8, 5))\n",
        "plt.plot(np.arange(len(history)), history, linestyle='-', color='orange', label='Learning Curve')  \n",
        "\n",
        "plt.xlabel(\"Epochs\")\n",
        "plt.ylabel(\"Loss\")\n",
        "plt.title(\"Learning Curve\")\n",
        "plt.legend()\n",
        "plt.grid(True)\n",
        "\n",
        "plt.show()"
      ]
    },
    {
      "cell_type": "code",
      "execution_count": null,
      "metadata": {},
      "outputs": [],
      "source": [
        "torch.save(net.state_dict(), 'model_state_dict.pt')\n",
        "loaded_model = PredictFunction()\n",
        "loaded_model.load_state_dict(torch.load('model_state_dict.pt'))"
      ]
    },
    {
      "cell_type": "markdown",
      "metadata": {},
      "source": [
        "### Boid"
      ]
    },
    {
      "cell_type": "code",
      "execution_count": null,
      "metadata": {},
      "outputs": [],
      "source": [
        "# import numpy as np\n",
        "# import matplotlib.pyplot as plt\n",
        "\n",
        "# scale = 1\n",
        "# # Boids parameters\n",
        "# time_steps = 500\n",
        "# num_boids = 100 * scale\n",
        "# width, height = 100 * scale, 100 * scale  # Dimensions of the simulation space\n",
        "# max_speed = 2.0 * scale\n",
        "# neighborhood_radius = 10.0 * scale\n",
        "# separation_distance = 2.0 * scale\n",
        "# alignment_weight = 0.1 * scale\n",
        "# cohesion_weight = 0.01 * scale\n",
        "# separation_weight = 0.1 * scale\n",
        "\n",
        "# # Initialize boids with random positions and velocities\n",
        "# positions = (np.random.rand(num_boids, 2) - 0.5) * [width, height]\n",
        "# velocities = (np.random.rand(num_boids, 2) - 0.5) * max_speed\n",
        "\n",
        "# # Function to update velocities and positions of all boids\n",
        "# def update_boids(positions, velocities):\n",
        "#     new_velocities = np.copy(velocities)\n",
        "#     for i, (pos, vel) in enumerate(zip(positions, velocities)):\n",
        "#         # Find neighbors\n",
        "#         distances = np.linalg.norm(positions - pos, axis=1)\n",
        "#         neighbors = (distances > 0) & (distances < neighborhood_radius)\n",
        "        \n",
        "#         if np.any(neighbors):\n",
        "#             # Separation\n",
        "#             separation_vector = np.sum(pos - positions[neighbors], axis=0)\n",
        "#             separation_force = separation_weight * separation_vector\n",
        "\n",
        "#             # Alignment\n",
        "#             average_velocity = np.mean(velocities[neighbors], axis=0)\n",
        "#             alignment_force = alignment_weight * (average_velocity - vel)\n",
        "            \n",
        "#             # Cohesion\n",
        "#             center_of_mass = np.mean(positions[neighbors], axis=0)\n",
        "#             cohesion_vector = center_of_mass - pos\n",
        "#             cohesion_force = cohesion_weight * cohesion_vector\n",
        "\n",
        "#             # Update velocity\n",
        "#             new_velocities[i] += separation_force + alignment_force + cohesion_force\n",
        "        \n",
        "#         # Limit the speed\n",
        "#         speed = np.linalg.norm(new_velocities[i])\n",
        "#         if speed > max_speed:\n",
        "#             new_velocities[i] = (new_velocities[i] / speed) * max_speed\n",
        "\n",
        "#     # Update positions\n",
        "#     new_positions = positions + new_velocities\n",
        "\n",
        "#     # Ensure positions stay within bounds (-50 to 50 for both axes)\n",
        "#     new_positions[:, 0] = np.clip(new_positions[:, 0], -width/2, width/2)\n",
        "#     new_positions[:, 1] = np.clip(new_positions[:, 1], -height/2, height/2)\n",
        "    \n",
        "#     return new_positions, new_velocities\n",
        "\n",
        "# # Run simulation and collect data for a single boid\n",
        "# tracked_boid_index = 0\n",
        "# tracked_boid_positions = []\n",
        "# com_positions = []\n",
        "\n",
        "# for t in range(time_steps):\n",
        "#     positions, velocities = update_boids(positions, velocities)\n",
        "#     tracked_boid_positions.append(positions[tracked_boid_index])\n",
        "#     com_positions.append(np.mean(positions, axis=0))\n",
        "# # Convert to numpy arrays for easier handling\n",
        "# tracked_boid_positions = np.array(tracked_boid_positions)\n",
        "# com_positions = np.array(com_positions)\n",
        "\n",
        "\n",
        "# com_scaling_factor = 10\n",
        "\n",
        "# # Plotting the tracked boid's path and COM's path\n",
        "# plt.figure(figsize=(8, 8))\n",
        "# plt.plot(tracked_boid_positions[:, 0], tracked_boid_positions[:, 1], marker='o', markersize=3, linestyle='', label='Tracked Boid')\n",
        "# plt.plot(com_positions[:, 0] * com_scaling_factor, com_positions[:, 1] * com_scaling_factor, marker='x', linestyle='-', label=f'Center of Mass (magnified by: {com_scaling_factor}x)', color='red')\n",
        "# plt.title(\"Trajectory of a Single Boid and Center of Mass (COM) in a Flock\")\n",
        "# plt.xlabel(\"X Position\")\n",
        "# plt.ylabel(\"Y Position\")\n",
        "# plt.xlim(-width / 2, width / 2)\n",
        "# plt.ylim(-height / 2, height / 2)\n",
        "# plt.axhline(0, color='black', linewidth=0.5)\n",
        "# plt.axvline(0, color='black', linewidth=0.5)\n",
        "# plt.grid(True)\n",
        "# plt.legend()\n",
        "# plt.show()\n"
      ]
    },
    {
      "cell_type": "code",
      "execution_count": null,
      "metadata": {},
      "outputs": [],
      "source": []
    }
  ],
  "metadata": {
    "accelerator": "GPU",
    "colab": {
      "gpuType": "T4",
      "provenance": []
    },
    "gpuClass": "standard",
    "kernelspec": {
      "display_name": "torch",
      "language": "python",
      "name": "python3"
    },
    "language_info": {
      "codemirror_mode": {
        "name": "ipython",
        "version": 3
      },
      "file_extension": ".py",
      "mimetype": "text/x-python",
      "name": "python",
      "nbconvert_exporter": "python",
      "pygments_lexer": "ipython3",
      "version": "3.12.2"
    }
  },
  "nbformat": 4,
  "nbformat_minor": 0
}
